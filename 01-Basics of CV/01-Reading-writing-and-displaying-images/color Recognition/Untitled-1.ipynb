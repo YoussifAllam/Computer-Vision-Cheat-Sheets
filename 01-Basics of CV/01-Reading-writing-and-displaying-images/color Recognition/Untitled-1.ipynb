{
 "cells": [
  {
   "cell_type": "code",
   "execution_count": 2,
   "metadata": {},
   "outputs": [],
   "source": [
    "import cv2 as cv"
   ]
  },
  {
   "cell_type": "code",
   "execution_count": 3,
   "metadata": {},
   "outputs": [],
   "source": [
    "cap = cv.VideoCapture(cv.CAP_DSHOW)\n",
    "cap.set(cv.CAP_PROP_FRAME_HEIGHT, 720)\n",
    "cap.set(cv.CAP_PROP_FRAME_WIDTH, 1280)\n",
    "\n",
    "while(1):\n",
    "    _ , frame = cap.read()\n",
    "    hsv_frame= cv.cvtColor(frame , cv.COLOR_BGR2HSV)\n",
    "    height , width , _ = frame.shape\n",
    "    \n",
    "    cx = int(width /2) # center \n",
    "    cy = int(height / 2)\n",
    "    \n",
    "    pixel_center = hsv_frame[cy , cx]\n",
    "    hue_value = pixel_center[0] # Hue value \n",
    "    \n",
    "    color = 'UNdefined'\n",
    "    if hue_value < 5:\n",
    "        color = 'RED'\n",
    "        \n",
    "    elif hue_value < 22:\n",
    "        color = 'ORANGE'\n",
    "        \n",
    "    elif hue_value < 33:\n",
    "        color = 'YELLOW'\n",
    "        \n",
    "    elif hue_value < 78:\n",
    "        color = 'GREEN'\n",
    "        \n",
    "    elif hue_value < 131:\n",
    "        color = 'BLUE'\n",
    "        \n",
    "    elif hue_value < 170:\n",
    "        color = 'VIOLET'\n",
    "    else:\n",
    "        color = 'RED'\n",
    "        \n",
    "    pixel_center_BGR = frame [cy,cx]\n",
    "    b,g,r = int(pixel_center_BGR[0]),int(pixel_center_BGR[1]),int(pixel_center_BGR[2])\n",
    "    \n",
    "    cv.rectangle(frame  , (cx-220 ,10 ) , (cx+200 , 120 ) , (255,255,255) ,-1)\n",
    "    cv.putText(frame , color , (cx-220 ,100 )  , 0 , 3 , (b,g,r) , 5 )\n",
    "    cv.circle(frame  , (cx,cy) ,5, (25,25,25) ,3)\n",
    "    cv.imshow('',frame)\n",
    "    key  = cv.waitKey(1)\n",
    "    if key == 27 :\n",
    "         break\n",
    "cap.release()\n",
    "cv.destroyAllWindows()"
   ]
  },
  {
   "cell_type": "code",
   "execution_count": null,
   "metadata": {},
   "outputs": [],
   "source": []
  }
 ],
 "metadata": {
  "kernelspec": {
   "display_name": "Python 3",
   "language": "python",
   "name": "python3"
  },
  "language_info": {
   "codemirror_mode": {
    "name": "ipython",
    "version": 3
   },
   "file_extension": ".py",
   "mimetype": "text/x-python",
   "name": "python",
   "nbconvert_exporter": "python",
   "pygments_lexer": "ipython3",
   "version": "3.11.4"
  }
 },
 "nbformat": 4,
 "nbformat_minor": 2
}
