{
 "cells": [
  {
   "cell_type": "code",
   "execution_count": 1,
   "metadata": {},
   "outputs": [],
   "source": [
    "import numpy as np\n",
    "import cv2 as cv"
   ]
  },
  {
   "cell_type": "code",
   "execution_count": 2,
   "metadata": {},
   "outputs": [
    {
     "name": "stdout",
     "output_type": "stream",
     "text": [
      "EVENT_FLAG_ALTKEY\n",
      "EVENT_FLAG_CTRLKEY\n",
      "EVENT_FLAG_LBUTTON\n",
      "EVENT_FLAG_MBUTTON\n",
      "EVENT_FLAG_RBUTTON\n",
      "EVENT_FLAG_SHIFTKEY\n",
      "EVENT_LBUTTONDBLCLK\n",
      "EVENT_LBUTTONDOWN\n",
      "EVENT_LBUTTONUP\n",
      "EVENT_MBUTTONDBLCLK\n",
      "EVENT_MBUTTONDOWN\n",
      "EVENT_MBUTTONUP\n",
      "EVENT_MOUSEHWHEEL\n",
      "EVENT_MOUSEMOVE\n",
      "EVENT_MOUSEWHEEL\n",
      "EVENT_RBUTTONDBLCLK\n",
      "EVENT_RBUTTONDOWN\n",
      "EVENT_RBUTTONUP\n"
     ]
    }
   ],
   "source": [
    "events = [i for i in dir(cv) if 'EVENT' in i]\n",
    "print(*events,sep='\\n')"
   ]
  },
  {
   "cell_type": "code",
   "execution_count": 3,
   "metadata": {},
   "outputs": [],
   "source": [
    "img = np .zeros((512,512,3),dtype = np.int32)"
   ]
  },
  {
   "cell_type": "code",
   "execution_count": 14,
   "metadata": {},
   "outputs": [
    {
     "name": "stdout",
     "output_type": "stream",
     "text": [
      "1023 187\n",
      "1023 187\n",
      "667 565\n",
      "1132 548\n"
     ]
    }
   ],
   "source": [
    "def click_event( event  , x , y , flags , parametar ):\n",
    "    if event == cv.EVENT_LBUTTONDOWN : \n",
    "        print(x , y)\n",
    "        font = cv.FONT_HERSHEY_COMPLEX \n",
    "        strxy = str(x)+\" , \"+str(y)\n",
    "        cv.putText(img ,strxy , (x,y),font , .5 ,(0,255,2455) , 2 )\n",
    "        cv.imshow(' ' , img)\n",
    "    elif event == cv.EVENT_RBUTTONDOWN :\n",
    "        blue = img[y,x,0]\n",
    "        green = img[y,x,1]\n",
    "        red = img[y,x,2]\n",
    "        font = cv.FONT_HERSHEY_COMPLEX \n",
    "        strRGB = str(blue)+\" , \"+str(green)+\" , \"+str(red)\n",
    "        cv.putText(img ,strRGB , (x,y),font , .5 ,(0,255,0) , 2 )\n",
    "        cv.imshow(' ' , img)\n",
    "\n",
    "img = cv.imread(\"img2.jpg\")\n",
    "cv.imshow(\"D\" , img)\n",
    "#cv.namedWindow('image')\n",
    "cv.setMouseCallback('D' ,click_event)\n",
    "\n",
    "cv.waitKey(0)\n",
    "cv.destroyAllWindows()"
   ]
  },
  {
   "cell_type": "markdown",
   "metadata": {},
   "source": [
    "# open new window that colord by color of mouse click position"
   ]
  },
  {
   "cell_type": "code",
   "execution_count": 15,
   "metadata": {},
   "outputs": [],
   "source": [
    "def click_event( event  , x , y , flags , parametar ):\n",
    "    if event == cv.EVENT_LBUTTONDOWN : \n",
    "        blue = img[y,x,0]\n",
    "        green = img[y,x,1]\n",
    "        red = img[y,x,2]\n",
    "        mycolorimage = np.zeros((512,512,3) , dtype= np.uint8 )\n",
    "        mycolorimage [:] = [blue , green , red]\n",
    "        \n",
    "        cv.imshow('color' , mycolorimage)\n",
    "\n",
    "img = cv.imread(\"img2.jpg\")\n",
    "cv.imshow(\"D\" , img)\n",
    "cv.setMouseCallback('D' ,click_event)\n",
    "cv.waitKey(0)\n",
    "cv.destroyAllWindows()       \n"
   ]
  },
  {
   "cell_type": "code",
   "execution_count": null,
   "metadata": {},
   "outputs": [],
   "source": []
  }
 ],
 "metadata": {
  "kernelspec": {
   "display_name": "Python 3",
   "language": "python",
   "name": "python3"
  },
  "language_info": {
   "codemirror_mode": {
    "name": "ipython",
    "version": 3
   },
   "file_extension": ".py",
   "mimetype": "text/x-python",
   "name": "python",
   "nbconvert_exporter": "python",
   "pygments_lexer": "ipython3",
   "version": "3.11.4"
  },
  "orig_nbformat": 4
 },
 "nbformat": 4,
 "nbformat_minor": 2
}
